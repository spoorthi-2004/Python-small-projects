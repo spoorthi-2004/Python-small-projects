{
 "cells": [
  {
   "cell_type": "code",
   "execution_count": 8,
   "id": "f42ee6ad-3078-4f24-8295-5f61b748fcfc",
   "metadata": {
    "tags": []
   },
   "outputs": [
    {
     "name": "stdin",
     "output_type": "stream",
     "text": [
      "Enter Lower bound:-  1\n",
      "Enter Upper bound:-  1000\n"
     ]
    },
    {
     "name": "stdout",
     "output_type": "stream",
     "text": [
      "numberofguess: 10\n"
     ]
    },
    {
     "name": "stdin",
     "output_type": "stream",
     "text": [
      "Guess a number:-  500\n"
     ]
    },
    {
     "name": "stdout",
     "output_type": "stream",
     "text": [
      "You Guessed too high!\n"
     ]
    },
    {
     "name": "stdin",
     "output_type": "stream",
     "text": [
      "Guess a number:-  250\n"
     ]
    },
    {
     "name": "stdout",
     "output_type": "stream",
     "text": [
      "You Guessed too high!\n"
     ]
    },
    {
     "name": "stdin",
     "output_type": "stream",
     "text": [
      "Guess a number:-  100\n"
     ]
    },
    {
     "name": "stdout",
     "output_type": "stream",
     "text": [
      "You Guessed too high!\n"
     ]
    },
    {
     "name": "stdin",
     "output_type": "stream",
     "text": [
      "Guess a number:-  50\n"
     ]
    },
    {
     "name": "stdout",
     "output_type": "stream",
     "text": [
      "You guessed too small!\n"
     ]
    },
    {
     "name": "stdin",
     "output_type": "stream",
     "text": [
      "Guess a number:-  75\n"
     ]
    },
    {
     "name": "stdout",
     "output_type": "stream",
     "text": [
      "You guessed too small!\n"
     ]
    },
    {
     "name": "stdin",
     "output_type": "stream",
     "text": [
      "Guess a number:-  90\n"
     ]
    },
    {
     "name": "stdout",
     "output_type": "stream",
     "text": [
      "You guessed too small!\n"
     ]
    },
    {
     "name": "stdin",
     "output_type": "stream",
     "text": [
      "Guess a number:-  99\n"
     ]
    },
    {
     "name": "stdout",
     "output_type": "stream",
     "text": [
      "You Guessed too high!\n"
     ]
    },
    {
     "name": "stdin",
     "output_type": "stream",
     "text": [
      "Guess a number:-  95\n"
     ]
    },
    {
     "name": "stdout",
     "output_type": "stream",
     "text": [
      "You Guessed too high!\n"
     ]
    },
    {
     "name": "stdin",
     "output_type": "stream",
     "text": [
      "Guess a number:-  93\n"
     ]
    },
    {
     "name": "stdout",
     "output_type": "stream",
     "text": [
      "Congratulations you did it in  9  try\n"
     ]
    }
   ],
   "source": [
    "import random\n",
    "import math\n",
    "# Taking Inputs\n",
    "lower = int(input(\"Enter Lower bound:- \"))\n",
    " \n",
    "# Taking Inputs\n",
    "upper = int(input(\"Enter Upper bound:- \"))\n",
    "mid=0\n",
    "low=lower\n",
    "high=upper\n",
    "# generating random number between\n",
    "# the lower and upper\n",
    "x = random.randint(lower, upper)\n",
    "print(\"numberofguess:\",round(math.log(upper-lower+1,2)))\n",
    " \n",
    "# Initializing the number of guesses.\n",
    "count = 0\n",
    " \n",
    "# for calculation of minimum number of\n",
    "# guesses depends upon range\n",
    "while count < math.log(upper - lower + 1, 2):\n",
    "    count += 1\n",
    " \n",
    "    # taking guessing number as input\n",
    "    guess = int(input(\"Guess a number:- \"))\n",
    " \n",
    "    # Condition testing\n",
    "    if x == guess:\n",
    "        print(\"Congratulations you did it in \",\n",
    "              count, \" try\")\n",
    "        # Once guessed, loop will break\n",
    "        break\n",
    "    elif x > guess:\n",
    "        print(\"You guessed too small!\")\n",
    "    elif x < guess:\n",
    "        print(\"You Guessed too high!\")\n",
    " \n",
    "# If Guessing is more than required guesses,\n",
    "# shows this output.\n",
    "if count >math.log(upper - lower + 1, 2):\n",
    "    print(\"\\nThe number is %d\" % x)\n",
    "    print(\"\\tBetter Luck Next time!\")"
   ]
  },
  {
   "cell_type": "code",
   "execution_count": 6,
   "id": "1437cb4a-61a3-4358-9d33-0016e2afef00",
   "metadata": {
    "tags": []
   },
   "outputs": [
    {
     "name": "stdin",
     "output_type": "stream",
     "text": [
      "Player 1 name :  9\n",
      "Player 2 name :  9\n"
     ]
    },
    {
     "name": "stdout",
     "output_type": "stream",
     "text": [
      "Relationship status : Friends\n"
     ]
    }
   ],
   "source": [
    "def remove_match_char(list1, list2):\n",
    " \n",
    "    for i in range(len(list1)):\n",
    "        for j in range(len(list2)):\n",
    " \n",
    "            # if common character is found\n",
    "            # then remove that character\n",
    "            # and return list of concatenated\n",
    "            # list with True Flag\n",
    "            if list1[i] == list2[j]:\n",
    "                c = list1[i]\n",
    " \n",
    "                # remove character from the list\n",
    "                list1.remove(c)\n",
    "                list2.remove(c)\n",
    " \n",
    "                # concatenation of two list elements with *\n",
    "                # * is act as border mark here\n",
    "                list3 = list1 + [\"*\"] + list2\n",
    " \n",
    "                # return the concatenated list with True flag\n",
    "                return [list3, True]\n",
    " \n",
    "    # no common characters is found\n",
    "    # return the concatenated list with False flag\n",
    "    list3 = list1 + [\"*\"] + list2\n",
    "    return [list3, False]\n",
    " \n",
    " \n",
    "# Driver code\n",
    "if __name__ == \"__main__\":\n",
    " \n",
    "    # take first name\n",
    "    p1 = input(\"Player 1 name : \")\n",
    " \n",
    "    # converted all letters into lower case\n",
    "    p1 = p1.lower()\n",
    " \n",
    "    # replace any space with empty string\n",
    "    p1.replace(\" \", \"\")\n",
    " \n",
    "    # make a list of letters or characters\n",
    "    p1_list = list(p1)\n",
    " \n",
    "    # take 2nd name\n",
    "    p2 = input(\"Player 2 name : \")\n",
    "    p2 = p2.lower()\n",
    "    p2.replace(\" \", \"\")\n",
    "    p2_list = list(p2)\n",
    " \n",
    "    # taking a flag as True initially\n",
    "    proceed = True\n",
    " \n",
    "    # keep calling remove_match_char function\n",
    "    # until common characters is found or\n",
    "    # keep looping until proceed flag is True\n",
    "    while proceed:\n",
    " \n",
    "        # function calling and store return value\n",
    "        ret_list = remove_match_char(p1_list, p2_list)\n",
    " \n",
    "        # take out concatenated list from return list\n",
    "        con_list = ret_list[0]\n",
    " \n",
    "        # take out flag value from return list\n",
    "        proceed = ret_list[1]\n",
    " \n",
    "        # find the index of \"*\" / border mark\n",
    "        star_index = con_list.index(\"*\")\n",
    " \n",
    "        # list slicing perform\n",
    " \n",
    "        # all characters before * store in p1_list\n",
    "        p1_list = con_list[: star_index]\n",
    " \n",
    "        # all characters after * store in p2_list\n",
    "        p2_list = con_list[star_index + 1:]\n",
    " \n",
    "    # count total remaining characters\n",
    "    count = len(p1_list) + len(p2_list)\n",
    " \n",
    "    # list of FLAMES acronym\n",
    "    result = [\"Friends\", \"Love\", \"Affection\", \"Marriage\", \"Enemy\", \"Siblings\"]\n",
    " \n",
    "    # keep looping until only one item\n",
    "    # is not remaining in the result list\n",
    "    while len(result) > 1:\n",
    " \n",
    "        # store that index value from\n",
    "        # where we have to perform slicing.\n",
    "        split_index = (count % len(result) - 1)\n",
    " \n",
    "        # this steps is done for performing\n",
    "        # anticlock-wise circular fashion counting.\n",
    "        if split_index >= 0:\n",
    " \n",
    "            # list slicing\n",
    "            right = result[split_index + 1:]\n",
    "            left = result[: split_index]\n",
    " \n",
    "            # list concatenation\n",
    "            result = right + left\n",
    " \n",
    "        else:\n",
    "            result = result[: len(result) - 1]\n",
    " \n",
    "    # print final result\n",
    "    print(\"Relationship status :\", result[0])"
   ]
  },
  {
   "cell_type": "code",
   "execution_count": 9,
   "id": "6e62940c-e5ec-4a25-8740-e2cffdd0803a",
   "metadata": {},
   "outputs": [
    {
     "name": "stdout",
     "output_type": "stream",
     "text": [
      "pygame 2.5.2 (SDL 2.28.3, Python 3.11.5)\n",
      "Hello from the pygame community. https://www.pygame.org/contribute.html\n",
      "Press 'p' to pause\n",
      "Press 'r' to resume\n",
      "Press 'v' set volume\n",
      "Press 'e' to exit\n"
     ]
    },
    {
     "name": "stdin",
     "output_type": "stream",
     "text": [
      "['p','r','v','e']>>> r\n"
     ]
    },
    {
     "name": "stdout",
     "output_type": "stream",
     "text": [
      "Press 'p' to pause\n",
      "Press 'r' to resume\n",
      "Press 'v' set volume\n",
      "Press 'e' to exit\n"
     ]
    },
    {
     "name": "stdin",
     "output_type": "stream",
     "text": [
      "['p','r','v','e']>>> v\n",
      "Enter volume(0 to 1):  0.2\n"
     ]
    },
    {
     "name": "stdout",
     "output_type": "stream",
     "text": [
      "Press 'p' to pause\n",
      "Press 'r' to resume\n",
      "Press 'v' set volume\n",
      "Press 'e' to exit\n"
     ]
    },
    {
     "name": "stdin",
     "output_type": "stream",
     "text": [
      "['p','r','v','e']>>> p\n"
     ]
    },
    {
     "name": "stdout",
     "output_type": "stream",
     "text": [
      "Press 'p' to pause\n",
      "Press 'r' to resume\n",
      "Press 'v' set volume\n",
      "Press 'e' to exit\n"
     ]
    },
    {
     "name": "stdin",
     "output_type": "stream",
     "text": [
      "['p','r','v','e']>>> r\n"
     ]
    },
    {
     "name": "stdout",
     "output_type": "stream",
     "text": [
      "Press 'p' to pause\n",
      "Press 'r' to resume\n",
      "Press 'v' set volume\n",
      "Press 'e' to exit\n"
     ]
    },
    {
     "name": "stdin",
     "output_type": "stream",
     "text": [
      "['p','r','v','e']>>> e\n"
     ]
    }
   ],
   "source": [
    "from pygame import mixer\n",
    "mixer.init()\n",
    "# --------------------------Path of your music\n",
    "mixer.music.load(\"D:\\Heeriye.mp3\")\n",
    "mixer.music.set_volume(0.5)\n",
    "mixer.music.play()\n",
    "while True:\n",
    "    print(\"Press 'p' to pause\")\n",
    "    print(\"Press 'r' to resume\")\n",
    "    print(\"Press 'v' set volume\")\n",
    "    print(\"Press 'e' to exit\")\n",
    "    ch = input(\"['p','r','v','e']>>>\")\n",
    "    if ch == \"p\":\n",
    "        mixer.music.pause()\n",
    "    elif ch == \"r\":\n",
    "        mixer.music.unpause()\n",
    "    elif ch == \"v\":\n",
    "        v = float(input(\"Enter volume(0 to 1): \"))\n",
    "        mixer.music.set_volume(v)\n",
    "    elif ch == \"e\":\n",
    "        mixer.music.stop()\n",
    "        break"
   ]
  },
  {
   "cell_type": "code",
   "execution_count": 1,
   "id": "830aea68-536f-4b42-80da-fe781af40aa1",
   "metadata": {},
   "outputs": [
    {
     "name": "stdout",
     "output_type": "stream",
     "text": [
      "Requirement already satisfied: demoji in c:\\users\\spoorthi s g\\anaconda3\\lib\\site-packages (1.1.0)\n",
      "Note: you may need to restart the kernel to use updated packages.\n"
     ]
    }
   ],
   "source": [
    "pip install demoji"
   ]
  },
  {
   "cell_type": "code",
   "execution_count": 10,
   "id": "63ac87f8-895f-4284-a606-1775beeb82f6",
   "metadata": {
    "tags": []
   },
   "outputs": [
    {
     "data": {
      "text/plain": [
       "{'🤣': 'rolling on the floor laughing',\n",
       " '😉': 'winking face',\n",
       " '😊': 'smiling face with smiling eyes',\n",
       " '❤️': 'red heart',\n",
       " '😎': 'smiling face with sunglasses',\n",
       " '🥰': 'smiling face with hearts',\n",
       " '💕': 'two hearts',\n",
       " '😒': 'unamused face',\n",
       " '😂': 'face with tears of joy',\n",
       " '🙌': 'raising hands',\n",
       " '😘': 'face blowing a kiss'}"
      ]
     },
     "execution_count": 10,
     "metadata": {},
     "output_type": "execute_result"
    }
   ],
   "source": [
    "import demoji\n",
    "text=\"\"\"meanings 😂😊🤣❤️💕😘🙌😒😎😉🥰\"\"\"\n",
    "demoji.findall(text)"
   ]
  },
  {
   "cell_type": "code",
   "execution_count": 11,
   "id": "6f789a4b-f61a-4d92-aa58-cfc0995e7ec3",
   "metadata": {
    "tags": []
   },
   "outputs": [],
   "source": [
    "import turtle\n",
    " \n",
    "# turtle object\n",
    "pen = turtle.Turtle()\n",
    " \n",
    "# function for creation of eye\n",
    "def eye(col, rad):\n",
    "    pen.down()\n",
    "    pen.fillcolor(col)\n",
    "    pen.begin_fill()\n",
    "    pen.circle(rad)\n",
    "    pen.end_fill()\n",
    "    pen.up()\n",
    " \n",
    " \n",
    "# draw face\n",
    "pen.fillcolor('yellow')\n",
    "pen.begin_fill()\n",
    "pen.circle(100)\n",
    "pen.end_fill()\n",
    "pen.up()\n",
    " \n",
    "# draw eyes\n",
    "pen.goto(-40, 120)\n",
    "eye('white', 15)\n",
    "pen.goto(-37, 125)\n",
    "eye('black', 5)\n",
    "pen.goto(40, 120)\n",
    "eye('white', 15)\n",
    "pen.goto(40, 125)\n",
    "eye('black', 5)\n",
    " \n",
    "# draw nose\n",
    "pen.goto(0, 75)\n",
    "eye('black', 8)\n",
    " \n",
    "# draw mouth\n",
    "pen.goto(-40, 85)\n",
    "pen.down()\n",
    "pen.right(90)\n",
    "pen.circle(40, 180)\n",
    "pen.up()\n",
    " \n",
    "# draw tongue\n",
    "pen.goto(-10, 45)\n",
    "pen.down()\n",
    "pen.right(180)\n",
    "pen.fillcolor('red')\n",
    "pen.begin_fill()\n",
    "pen.circle(10, 180)\n",
    "pen.end_fill()\n",
    "pen.hideturtle()"
   ]
  },
  {
   "cell_type": "code",
   "execution_count": 4,
   "id": "a63e0a24-8981-4c1d-9698-8492416c6930",
   "metadata": {
    "tags": []
   },
   "outputs": [
    {
     "ename": "ModuleNotFoundError",
     "evalue": "No module named 'PyDictionary'",
     "output_type": "error",
     "traceback": [
      "\u001b[1;31m---------------------------------------------------------------------------\u001b[0m",
      "\u001b[1;31mModuleNotFoundError\u001b[0m                       Traceback (most recent call last)",
      "Cell \u001b[1;32mIn[4], line 1\u001b[0m\n\u001b[1;32m----> 1\u001b[0m \u001b[38;5;28;01mfrom\u001b[39;00m \u001b[38;5;21;01mPyDictionary\u001b[39;00m \u001b[38;5;28;01mimport\u001b[39;00m PyDictionary\n\u001b[0;32m      2\u001b[0m dictionary\u001b[38;5;241m=\u001b[39mPyDictionary()\n\u001b[0;32m      3\u001b[0m \u001b[38;5;28mprint\u001b[39m (dictionary\u001b[38;5;241m.\u001b[39mmeaning(\u001b[38;5;124m\"\u001b[39m\u001b[38;5;124mindentation\u001b[39m\u001b[38;5;124m\"\u001b[39m))\n",
      "\u001b[1;31mModuleNotFoundError\u001b[0m: No module named 'PyDictionary'"
     ]
    }
   ],
   "source": [
    "from PyDictionary import PyDictionary\n",
    "dictionary=PyDictionary()\n",
    "print (dictionary.meaning(\"indentation\"))"
   ]
  },
  {
   "cell_type": "code",
   "execution_count": 1,
   "id": "75446083-7ae1-4c33-99f3-842bcda13aa3",
   "metadata": {},
   "outputs": [
    {
     "name": "stdout",
     "output_type": "stream",
     "text": [
      "Requirement already satisfied: pip in c:\\users\\spoorthi s g\\anaconda3\\lib\\site-packages (23.2.1)\n",
      "Collecting pip\n",
      "  Obtaining dependency information for pip from https://files.pythonhosted.org/packages/8a/6a/19e9fe04fca059ccf770861c7d5721ab4c2aebc539889e97c7977528a53b/pip-24.0-py3-none-any.whl.metadata\n",
      "  Downloading pip-24.0-py3-none-any.whl.metadata (3.6 kB)\n",
      "Requirement already satisfied: setuptools in c:\\users\\spoorthi s g\\anaconda3\\lib\\site-packages (68.0.0)\n",
      "Collecting setuptools\n",
      "  Obtaining dependency information for setuptools from https://files.pythonhosted.org/packages/c0/7a/3da654f49c95d0cc6e9549a855b5818e66a917e852ec608e77550c8dc08b/setuptools-69.1.1-py3-none-any.whl.metadata\n",
      "  Downloading setuptools-69.1.1-py3-none-any.whl.metadata (6.2 kB)\n",
      "Downloading pip-24.0-py3-none-any.whl (2.1 MB)\n",
      "   ---------------------------------------- 0.0/2.1 MB ? eta -:--:--\n",
      "   ---------------------------------------- 0.0/2.1 MB ? eta -:--:--\n",
      "    --------------------------------------- 0.0/2.1 MB 435.7 kB/s eta 0:00:05\n",
      "   - -------------------------------------- 0.1/2.1 MB 409.6 kB/s eta 0:00:06\n",
      "   - -------------------------------------- 0.1/2.1 MB 391.3 kB/s eta 0:00:06\n",
      "   - -------------------------------------- 0.1/2.1 MB 403.5 kB/s eta 0:00:06\n",
      "   - -------------------------------------- 0.1/2.1 MB 403.5 kB/s eta 0:00:06\n",
      "   -- ------------------------------------- 0.1/2.1 MB 425.3 kB/s eta 0:00:05\n",
      "   -- ------------------------------------- 0.2/2.1 MB 416.7 kB/s eta 0:00:05\n",
      "   -- ------------------------------------- 0.2/2.1 MB 416.7 kB/s eta 0:00:05\n",
      "   -- ------------------------------------- 0.2/2.1 MB 416.7 kB/s eta 0:00:05\n",
      "   -- ------------------------------------- 0.2/2.1 MB 416.7 kB/s eta 0:00:05\n",
      "   ---- ----------------------------------- 0.2/2.1 MB 411.8 kB/s eta 0:00:05\n",
      "   ---- ----------------------------------- 0.2/2.1 MB 411.8 kB/s eta 0:00:05\n",
      "   ---- ----------------------------------- 0.2/2.1 MB 411.8 kB/s eta 0:00:05\n",
      "   ----- ---------------------------------- 0.3/2.1 MB 413.0 kB/s eta 0:00:05\n",
      "   ----- ---------------------------------- 0.3/2.1 MB 413.0 kB/s eta 0:00:05\n",
      "   ------ --------------------------------- 0.3/2.1 MB 403.1 kB/s eta 0:00:05\n",
      "   ------ --------------------------------- 0.4/2.1 MB 424.6 kB/s eta 0:00:05\n",
      "   ------- -------------------------------- 0.4/2.1 MB 436.7 kB/s eta 0:00:04\n",
      "   ------- -------------------------------- 0.4/2.1 MB 429.8 kB/s eta 0:00:04\n",
      "   -------- ------------------------------- 0.4/2.1 MB 440.5 kB/s eta 0:00:04\n",
      "   -------- ------------------------------- 0.4/2.1 MB 440.5 kB/s eta 0:00:04\n",
      "   -------- ------------------------------- 0.4/2.1 MB 440.5 kB/s eta 0:00:04\n",
      "   ---------- ----------------------------- 0.5/2.1 MB 464.2 kB/s eta 0:00:04\n",
      "   ---------- ----------------------------- 0.5/2.1 MB 464.2 kB/s eta 0:00:04\n",
      "   ----------- ---------------------------- 0.6/2.1 MB 472.6 kB/s eta 0:00:04\n",
      "   ----------- ---------------------------- 0.6/2.1 MB 472.6 kB/s eta 0:00:04\n",
      "   ------------ --------------------------- 0.7/2.1 MB 501.2 kB/s eta 0:00:03\n",
      "   ------------- -------------------------- 0.7/2.1 MB 513.9 kB/s eta 0:00:03\n",
      "   -------------- ------------------------- 0.7/2.1 MB 518.5 kB/s eta 0:00:03\n",
      "   -------------- ------------------------- 0.7/2.1 MB 518.5 kB/s eta 0:00:03\n",
      "   -------------- ------------------------- 0.8/2.1 MB 501.3 kB/s eta 0:00:03\n",
      "   --------------- ------------------------ 0.8/2.1 MB 511.0 kB/s eta 0:00:03\n",
      "   ---------------- ----------------------- 0.9/2.1 MB 527.9 kB/s eta 0:00:03\n",
      "   ----------------- ---------------------- 0.9/2.1 MB 545.1 kB/s eta 0:00:03\n",
      "   ------------------- -------------------- 1.0/2.1 MB 589.7 kB/s eta 0:00:02\n",
      "   -------------------- ------------------- 1.1/2.1 MB 614.6 kB/s eta 0:00:02\n",
      "   --------------------- ------------------ 1.1/2.1 MB 615.6 kB/s eta 0:00:02\n",
      "   --------------------- ------------------ 1.2/2.1 MB 616.6 kB/s eta 0:00:02\n",
      "   ----------------------- ---------------- 1.2/2.1 MB 639.0 kB/s eta 0:00:02\n",
      "   ------------------------ --------------- 1.3/2.1 MB 644.9 kB/s eta 0:00:02\n",
      "   ------------------------ --------------- 1.3/2.1 MB 644.9 kB/s eta 0:00:02\n",
      "   ------------------------- -------------- 1.4/2.1 MB 655.2 kB/s eta 0:00:02\n",
      "   -------------------------- ------------- 1.4/2.1 MB 665.1 kB/s eta 0:00:02\n",
      "   --------------------------- ------------ 1.5/2.1 MB 669.4 kB/s eta 0:00:01\n",
      "   ---------------------------- ----------- 1.5/2.1 MB 678.6 kB/s eta 0:00:01\n",
      "   ----------------------------- ---------- 1.6/2.1 MB 691.8 kB/s eta 0:00:01\n",
      "   ------------------------------- -------- 1.6/2.1 MB 708.8 kB/s eta 0:00:01\n",
      "   ------------------------------- -------- 1.7/2.1 MB 707.7 kB/s eta 0:00:01\n",
      "   -------------------------------- ------- 1.7/2.1 MB 711.4 kB/s eta 0:00:01\n",
      "   --------------------------------- ------ 1.8/2.1 MB 718.7 kB/s eta 0:00:01\n",
      "   ---------------------------------- ----- 1.8/2.1 MB 725.2 kB/s eta 0:00:01\n",
      "   ----------------------------------- ---- 1.9/2.1 MB 732.0 kB/s eta 0:00:01\n",
      "   ----------------------------------- ---- 1.9/2.1 MB 730.9 kB/s eta 0:00:01\n",
      "   ------------------------------------ --- 1.9/2.1 MB 729.5 kB/s eta 0:00:01\n",
      "   ------------------------------------- -- 2.0/2.1 MB 728.1 kB/s eta 0:00:01\n",
      "   -------------------------------------- - 2.0/2.1 MB 734.4 kB/s eta 0:00:01\n",
      "   -------------------------------------- - 2.0/2.1 MB 733.6 kB/s eta 0:00:01\n",
      "   ---------------------------------------  2.1/2.1 MB 728.0 kB/s eta 0:00:01\n",
      "   ---------------------------------------  2.1/2.1 MB 723.2 kB/s eta 0:00:01\n",
      "   ---------------------------------------  2.1/2.1 MB 722.1 kB/s eta 0:00:01\n",
      "   ---------------------------------------- 2.1/2.1 MB 714.8 kB/s eta 0:00:00\n",
      "Downloading setuptools-69.1.1-py3-none-any.whl (819 kB)\n",
      "   ---------------------------------------- 0.0/819.3 kB ? eta -:--:--\n",
      "   - ------------------------------------- 30.7/819.3 kB 660.6 kB/s eta 0:00:02\n",
      "   --- ------------------------------------ 81.9/819.3 kB 1.2 MB/s eta 0:00:01\n",
      "   ------ --------------------------------- 143.4/819.3 kB 1.1 MB/s eta 0:00:01\n",
      "   -------- ----------------------------- 174.1/819.3 kB 952.6 kB/s eta 0:00:01\n",
      "   --------- ---------------------------- 204.8/819.3 kB 888.4 kB/s eta 0:00:01\n",
      "   ------------ ------------------------- 266.2/819.3 kB 962.4 kB/s eta 0:00:01\n",
      "   ------------- ------------------------ 297.0/819.3 kB 919.0 kB/s eta 0:00:01\n",
      "   --------------- ---------------------- 327.7/819.3 kB 922.8 kB/s eta 0:00:01\n",
      "   ------------------ ------------------- 399.4/819.3 kB 958.4 kB/s eta 0:00:01\n",
      "   ------------------ ------------------- 409.6/819.3 kB 913.9 kB/s eta 0:00:01\n",
      "   ---------------------- --------------- 481.3/819.3 kB 912.9 kB/s eta 0:00:01\n",
      "   ------------------------ ------------- 522.2/819.3 kB 936.0 kB/s eta 0:00:01\n",
      "   ------------------------- ------------ 542.7/819.3 kB 896.4 kB/s eta 0:00:01\n",
      "   -------------------------- ----------- 573.4/819.3 kB 858.5 kB/s eta 0:00:01\n",
      "   --------------------------- ---------- 583.7/819.3 kB 853.3 kB/s eta 0:00:01\n",
      "   ---------------------------- --------- 624.6/819.3 kB 837.1 kB/s eta 0:00:01\n",
      "   ------------------------------ ------- 665.6/819.3 kB 822.3 kB/s eta 0:00:01\n",
      "   -------------------------------- ----- 706.6/819.3 kB 841.0 kB/s eta 0:00:01\n",
      "   ---------------------------------- --- 747.5/819.3 kB 827.5 kB/s eta 0:00:01\n",
      "   -------------------------------------  798.7/819.3 kB 841.5 kB/s eta 0:00:01\n",
      "   -------------------------------------- 819.3/819.3 kB 849.0 kB/s eta 0:00:00\n",
      "Installing collected packages: setuptools, pip\n",
      "  Attempting uninstall: setuptools\n",
      "    Found existing installation: setuptools 68.0.0\n",
      "    Uninstalling setuptools-68.0.0:\n",
      "      Successfully uninstalled setuptools-68.0.0\n",
      "  Attempting uninstall: pip\n",
      "    Found existing installation: pip 23.2.1\n",
      "    Uninstalling pip-23.2.1:\n",
      "      Successfully uninstalled pip-23.2.1\n",
      "Successfully installed pip-24.0 setuptools-69.1.1\n",
      "Note: you may need to restart the kernel to use updated packages.\n"
     ]
    },
    {
     "name": "stderr",
     "output_type": "stream",
     "text": [
      "ERROR: pip's dependency resolver does not currently take into account all the packages that are installed. This behaviour is the source of the following dependency conflicts.\n",
      "conda-repo-cli 1.0.75 requires requests_mock, which is not installed.\n",
      "conda-repo-cli 1.0.75 requires clyent==1.2.1, but you have clyent 1.2.2 which is incompatible.\n",
      "conda-repo-cli 1.0.75 requires PyYAML==6.0.1, but you have pyyaml 6.0 which is incompatible.\n"
     ]
    }
   ],
   "source": [
    "pip install --upgrade pip setuptools\n"
   ]
  },
  {
   "cell_type": "code",
   "execution_count": 2,
   "id": "a7952783-075d-4ecf-bf7a-385da50c4058",
   "metadata": {
    "tags": []
   },
   "outputs": [
    {
     "name": "stdout",
     "output_type": "stream",
     "text": [
      "Collecting PyDictionary==2.0.1Note: you may need to restart the kernel to use updated packages.\n",
      "\n",
      "  Downloading PyDictionary-2.0.1-py3-none-any.whl (6.1 kB)\n",
      "Requirement already satisfied: bs4 in c:\\users\\spoorthi s g\\anaconda3\\lib\\site-packages (from PyDictionary==2.0.1) (0.0.1)\n",
      "Requirement already satisfied: click in c:\\users\\spoorthi s g\\anaconda3\\lib\\site-packages (from PyDictionary==2.0.1) (8.0.4)\n",
      "Collecting goslate (from PyDictionary==2.0.1)\n",
      "  Downloading goslate-1.5.4.tar.gz (14 kB)\n",
      "  Preparing metadata (setup.py): started\n",
      "  Preparing metadata (setup.py): finished with status 'done'\n",
      "Requirement already satisfied: requests in c:\\users\\spoorthi s g\\anaconda3\\lib\\site-packages (from PyDictionary==2.0.1) (2.31.0)\n",
      "Requirement already satisfied: beautifulsoup4 in c:\\users\\spoorthi s g\\anaconda3\\lib\\site-packages (from bs4->PyDictionary==2.0.1) (4.12.2)\n",
      "Requirement already satisfied: colorama in c:\\users\\spoorthi s g\\anaconda3\\lib\\site-packages (from click->PyDictionary==2.0.1) (0.4.6)\n",
      "Collecting futures (from goslate->PyDictionary==2.0.1)\n",
      "  Downloading futures-3.0.5.tar.gz (25 kB)\n",
      "  Preparing metadata (setup.py): started\n",
      "  Preparing metadata (setup.py): finished with status 'error'\n"
     ]
    },
    {
     "name": "stderr",
     "output_type": "stream",
     "text": [
      "  error: subprocess-exited-with-error\n",
      "  \n",
      "  python setup.py egg_info did not run successfully.\n",
      "  exit code: 1\n",
      "  \n",
      "  [30 lines of output]\n",
      "  Traceback (most recent call last):\n",
      "    File \"<string>\", line 2, in <module>\n",
      "    File \"<pip-setuptools-caller>\", line 14, in <module>\n",
      "    File \"C:\\Users\\SPOORTHI S G\\anaconda3\\Lib\\site-packages\\setuptools\\__init__.py\", line 266, in <module>\n",
      "      monkey.patch_all()\n",
      "    File \"C:\\Users\\SPOORTHI S G\\anaconda3\\Lib\\site-packages\\setuptools\\monkey.py\", line 83, in patch_all\n",
      "      patch_for_msvc_specialized_compiler()\n",
      "    File \"C:\\Users\\SPOORTHI S G\\anaconda3\\Lib\\site-packages\\setuptools\\monkey.py\", line 149, in patch_for_msvc_specialized_compiler\n",
      "      patch_func(*msvc14('_get_vc_env'))\n",
      "                  ^^^^^^^^^^^^^^^^^^^^^\n",
      "    File \"C:\\Users\\SPOORTHI S G\\anaconda3\\Lib\\site-packages\\setuptools\\monkey.py\", line 139, in patch_params\n",
      "      mod = import_module(mod_name)\n",
      "            ^^^^^^^^^^^^^^^^^^^^^^^\n",
      "    File \"C:\\Users\\SPOORTHI S G\\anaconda3\\Lib\\importlib\\__init__.py\", line 126, in import_module\n",
      "      return _bootstrap._gcd_import(name[level:], package, level)\n",
      "             ^^^^^^^^^^^^^^^^^^^^^^^^^^^^^^^^^^^^^^^^^^^^^^^^^^^^\n",
      "    File \"C:\\Users\\SPOORTHI S G\\anaconda3\\Lib\\site-packages\\setuptools\\_distutils\\_msvccompiler.py\", line 20, in <module>\n",
      "      import unittest.mock as mock\n",
      "    File \"C:\\Users\\SPOORTHI S G\\anaconda3\\Lib\\unittest\\mock.py\", line 26, in <module>\n",
      "      import asyncio\n",
      "    File \"C:\\Users\\SPOORTHI S G\\anaconda3\\Lib\\asyncio\\__init__.py\", line 8, in <module>\n",
      "      from .base_events import *\n",
      "    File \"C:\\Users\\SPOORTHI S G\\anaconda3\\Lib\\asyncio\\base_events.py\", line 18, in <module>\n",
      "      import concurrent.futures\n",
      "    File \"C:\\Users\\SPOORTHI S G\\AppData\\Local\\Temp\\pip-install-hz_dj8_x\\futures_9ce9328533a44a0fbd027fa3977ed070\\concurrent\\futures\\__init__.py\", line 8, in <module>\n",
      "      from concurrent.futures._base import (FIRST_COMPLETED,\n",
      "    File \"C:\\Users\\SPOORTHI S G\\AppData\\Local\\Temp\\pip-install-hz_dj8_x\\futures_9ce9328533a44a0fbd027fa3977ed070\\concurrent\\futures\\_base.py\", line 357\n",
      "      raise type(self._exception), self._exception, self._traceback\n",
      "                                 ^\n",
      "  SyntaxError: invalid syntax\n",
      "  [end of output]\n",
      "  \n",
      "  note: This error originates from a subprocess, and is likely not a problem with pip.\n",
      "error: metadata-generation-failed\n",
      "\n",
      "Encountered error while generating package metadata.\n",
      "\n",
      "See above for output.\n",
      "\n",
      "note: This is an issue with the package mentioned above, not pip.\n",
      "hint: See above for details.\n"
     ]
    }
   ],
   "source": [
    "pip install PyDictionary==2.0.1\n"
   ]
  },
  {
   "cell_type": "code",
   "execution_count": 4,
   "id": "c3f9f00c-79b7-40d8-8657-cfa420fc0c6e",
   "metadata": {
    "tags": []
   },
   "outputs": [
    {
     "name": "stdout",
     "output_type": "stream",
     "text": [
      "Collecting PyDictionary\n",
      "  Using cached PyDictionary-2.0.1-py3-none-any.whl (6.1 kB)\n",
      "Requirement already satisfied: bs4 in c:\\users\\spoorthi s g\\anaconda3\\lib\\site-packages (from PyDictionary) (0.0.1)\n",
      "Requirement already satisfied: click in c:\\users\\spoorthi s g\\anaconda3\\lib\\site-packages (from PyDictionary) (8.0.4)\n",
      "Collecting goslate (from PyDictionary)\n",
      "  Using cached goslate-1.5.4.tar.gz (14 kB)\n",
      "  Preparing metadata (setup.py): started\n",
      "  Preparing metadata (setup.py): finished with status 'done'\n",
      "Requirement already satisfied: requests in c:\\users\\spoorthi s g\\anaconda3\\lib\\site-packages (from PyDictionary) (2.31.0)\n",
      "Requirement already satisfied: beautifulsoup4 in c:\\users\\spoorthi s g\\anaconda3\\lib\\site-packages (from bs4->PyDictionary) (4.12.2)\n",
      "Requirement already satisfied: colorama in c:\\users\\spoorthi s g\\anaconda3\\lib\\site-packages (from click->PyDictionary) (0.4.6)\n",
      "Collecting futures (from goslate->PyDictionary)\n",
      "  Using cached futures-3.0.5.tar.gz (25 kB)\n",
      "  Preparing metadata (setup.py): started\n",
      "  Preparing metadata (setup.py): finished with status 'error'\n",
      "Note: you may need to restart the kernel to use updated packages.\n"
     ]
    },
    {
     "name": "stderr",
     "output_type": "stream",
     "text": [
      "  error: subprocess-exited-with-error\n",
      "  \n",
      "  python setup.py egg_info did not run successfully.\n",
      "  exit code: 1\n",
      "  \n",
      "  [30 lines of output]\n",
      "  Traceback (most recent call last):\n",
      "    File \"<string>\", line 2, in <module>\n",
      "    File \"<pip-setuptools-caller>\", line 14, in <module>\n",
      "    File \"C:\\Users\\SPOORTHI S G\\anaconda3\\Lib\\site-packages\\setuptools\\__init__.py\", line 266, in <module>\n",
      "      monkey.patch_all()\n",
      "    File \"C:\\Users\\SPOORTHI S G\\anaconda3\\Lib\\site-packages\\setuptools\\monkey.py\", line 83, in patch_all\n",
      "      patch_for_msvc_specialized_compiler()\n",
      "    File \"C:\\Users\\SPOORTHI S G\\anaconda3\\Lib\\site-packages\\setuptools\\monkey.py\", line 149, in patch_for_msvc_specialized_compiler\n",
      "      patch_func(*msvc14('_get_vc_env'))\n",
      "                  ^^^^^^^^^^^^^^^^^^^^^\n",
      "    File \"C:\\Users\\SPOORTHI S G\\anaconda3\\Lib\\site-packages\\setuptools\\monkey.py\", line 139, in patch_params\n",
      "      mod = import_module(mod_name)\n",
      "            ^^^^^^^^^^^^^^^^^^^^^^^\n",
      "    File \"C:\\Users\\SPOORTHI S G\\anaconda3\\Lib\\importlib\\__init__.py\", line 126, in import_module\n",
      "      return _bootstrap._gcd_import(name[level:], package, level)\n",
      "             ^^^^^^^^^^^^^^^^^^^^^^^^^^^^^^^^^^^^^^^^^^^^^^^^^^^^\n",
      "    File \"C:\\Users\\SPOORTHI S G\\anaconda3\\Lib\\site-packages\\setuptools\\_distutils\\_msvccompiler.py\", line 20, in <module>\n",
      "      import unittest.mock as mock\n",
      "    File \"C:\\Users\\SPOORTHI S G\\anaconda3\\Lib\\unittest\\mock.py\", line 26, in <module>\n",
      "      import asyncio\n",
      "    File \"C:\\Users\\SPOORTHI S G\\anaconda3\\Lib\\asyncio\\__init__.py\", line 8, in <module>\n",
      "      from .base_events import *\n",
      "    File \"C:\\Users\\SPOORTHI S G\\anaconda3\\Lib\\asyncio\\base_events.py\", line 18, in <module>\n",
      "      import concurrent.futures\n",
      "    File \"C:\\Users\\SPOORTHI S G\\AppData\\Local\\Temp\\pip-install-lt0dqmzw\\futures_e92887a7133b460a9b2e476c5f901681\\concurrent\\futures\\__init__.py\", line 8, in <module>\n",
      "      from concurrent.futures._base import (FIRST_COMPLETED,\n",
      "    File \"C:\\Users\\SPOORTHI S G\\AppData\\Local\\Temp\\pip-install-lt0dqmzw\\futures_e92887a7133b460a9b2e476c5f901681\\concurrent\\futures\\_base.py\", line 357\n",
      "      raise type(self._exception), self._exception, self._traceback\n",
      "                                 ^\n",
      "  SyntaxError: invalid syntax\n",
      "  [end of output]\n",
      "  \n",
      "  note: This error originates from a subprocess, and is likely not a problem with pip.\n",
      "error: metadata-generation-failed\n",
      "\n",
      "Encountered error while generating package metadata.\n",
      "\n",
      "See above for output.\n",
      "\n",
      "note: This is an issue with the package mentioned above, not pip.\n",
      "hint: See above for details.\n"
     ]
    }
   ],
   "source": [
    "\n",
    "pip install PyDictionary"
   ]
  },
  {
   "cell_type": "code",
   "execution_count": null,
   "id": "ee81162d-f757-4617-81d2-a1a4455a0112",
   "metadata": {},
   "outputs": [],
   "source": []
  }
 ],
 "metadata": {
  "kernelspec": {
   "display_name": "Python 3 (ipykernel)",
   "language": "python",
   "name": "python3"
  },
  "language_info": {
   "codemirror_mode": {
    "name": "ipython",
    "version": 3
   },
   "file_extension": ".py",
   "mimetype": "text/x-python",
   "name": "python",
   "nbconvert_exporter": "python",
   "pygments_lexer": "ipython3",
   "version": "3.11.5"
  }
 },
 "nbformat": 4,
 "nbformat_minor": 5
}
